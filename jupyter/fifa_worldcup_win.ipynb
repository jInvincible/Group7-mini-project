{
 "cells": [
  {
   "cell_type": "markdown",
   "metadata": {},
   "source": [
    "# FACTORS AFFECTING THE WINNING ABILITY OF TEAMS PARTICIPATING IN THE WORLD CUP\n",
    "In this project, we're going to analyze a dataset about 21 Fifa World Cups.\n",
    "\n",
    "Our goal is to find out which element affects to winning rate and which does not.\n",
    "\n",
    "## Fifa world cup Dataset\n",
    "This dataset is made by Hải Nam with big helps from Tuấn Vũ and Thanh Trúc of Group 6."
   ]
  },
  {
   "cell_type": "code",
   "execution_count": 1,
   "metadata": {},
   "outputs": [],
   "source": [
    "# import libs\n",
    "import pandas as pd\n",
    "import matplotlib.pyplot as plt\n",
    "import seaborn as sns\n",
    "import numpy as np"
   ]
  },
  {
   "cell_type": "code",
   "execution_count": 2,
   "metadata": {},
   "outputs": [],
   "source": [
    "# add datas\n",
    "excel_file = pd.ExcelFile('Fifa_world_cup_raw3.xlsx')\n",
    "ff_matches = pd.read_excel(excel_file, sheet_name='All Matches')\n",
    "ff_details = pd.read_excel(excel_file, sheet_name='Match Details')\n",
    "regions_list = pd.read_excel('regions_list.xlsx', sheet_name='region list')"
   ]
  },
  {
   "cell_type": "code",
   "execution_count": 3,
   "metadata": {},
   "outputs": [
    {
     "data": {
      "text/html": [
       "<div>\n",
       "<style scoped>\n",
       "    .dataframe tbody tr th:only-of-type {\n",
       "        vertical-align: middle;\n",
       "    }\n",
       "\n",
       "    .dataframe tbody tr th {\n",
       "        vertical-align: top;\n",
       "    }\n",
       "\n",
       "    .dataframe thead th {\n",
       "        text-align: right;\n",
       "    }\n",
       "</style>\n",
       "<table border=\"1\" class=\"dataframe\">\n",
       "  <thead>\n",
       "    <tr style=\"text-align: right;\">\n",
       "      <th></th>\n",
       "      <th>Unnamed: 0</th>\n",
       "      <th>Year</th>\n",
       "      <th>Stage</th>\n",
       "      <th>Date</th>\n",
       "      <th>Time</th>\n",
       "      <th>Stadium</th>\n",
       "      <th>Location</th>\n",
       "      <th>Home Team</th>\n",
       "      <th>HT Goals</th>\n",
       "      <th>AT Goals</th>\n",
       "      <th>Away Team</th>\n",
       "      <th>Match Attendance</th>\n",
       "      <th>MatchID</th>\n",
       "      <th>Refer</th>\n",
       "    </tr>\n",
       "  </thead>\n",
       "  <tbody>\n",
       "    <tr>\n",
       "      <th>0</th>\n",
       "      <td>0</td>\n",
       "      <td>1930</td>\n",
       "      <td>Group 1</td>\n",
       "      <td>13 July 1930</td>\n",
       "      <td>15:00</td>\n",
       "      <td>Estadio Pocitos</td>\n",
       "      <td>Montevideo</td>\n",
       "      <td>France</td>\n",
       "      <td>4</td>\n",
       "      <td>1</td>\n",
       "      <td>Mexico</td>\n",
       "      <td>4,444</td>\n",
       "      <td>1096</td>\n",
       "      <td>https://www.fifa.com/worldcup/archive/uruguay1...</td>\n",
       "    </tr>\n",
       "    <tr>\n",
       "      <th>1</th>\n",
       "      <td>0</td>\n",
       "      <td>1930</td>\n",
       "      <td>Group 1</td>\n",
       "      <td>15 July 1930</td>\n",
       "      <td>16:00</td>\n",
       "      <td>Estadio Parque Central</td>\n",
       "      <td>Montevideo</td>\n",
       "      <td>Argentina</td>\n",
       "      <td>1</td>\n",
       "      <td>0</td>\n",
       "      <td>France</td>\n",
       "      <td>23,409</td>\n",
       "      <td>1085</td>\n",
       "      <td>https://www.fifa.com/worldcup/archive/uruguay1...</td>\n",
       "    </tr>\n",
       "    <tr>\n",
       "      <th>2</th>\n",
       "      <td>0</td>\n",
       "      <td>1930</td>\n",
       "      <td>Group 1</td>\n",
       "      <td>16 July 1930</td>\n",
       "      <td>14:45</td>\n",
       "      <td>Estadio Parque Central</td>\n",
       "      <td>Montevideo</td>\n",
       "      <td>Chile</td>\n",
       "      <td>3</td>\n",
       "      <td>0</td>\n",
       "      <td>Mexico</td>\n",
       "      <td>9,249</td>\n",
       "      <td>1095</td>\n",
       "      <td>https://www.fifa.com/worldcup/archive/uruguay1...</td>\n",
       "    </tr>\n",
       "    <tr>\n",
       "      <th>3</th>\n",
       "      <td>0</td>\n",
       "      <td>1930</td>\n",
       "      <td>Group 1</td>\n",
       "      <td>19 July 1930</td>\n",
       "      <td>12:50</td>\n",
       "      <td>Estadio Centenario</td>\n",
       "      <td>Montevideo</td>\n",
       "      <td>Chile</td>\n",
       "      <td>1</td>\n",
       "      <td>0</td>\n",
       "      <td>France</td>\n",
       "      <td>2,000</td>\n",
       "      <td>1094</td>\n",
       "      <td>https://www.fifa.com/worldcup/archive/uruguay1...</td>\n",
       "    </tr>\n",
       "    <tr>\n",
       "      <th>4</th>\n",
       "      <td>0</td>\n",
       "      <td>1930</td>\n",
       "      <td>Group 1</td>\n",
       "      <td>19 July 1930</td>\n",
       "      <td>15:00</td>\n",
       "      <td>Estadio Centenario</td>\n",
       "      <td>Montevideo</td>\n",
       "      <td>Argentina</td>\n",
       "      <td>6</td>\n",
       "      <td>3</td>\n",
       "      <td>Mexico</td>\n",
       "      <td>42,100</td>\n",
       "      <td>1086</td>\n",
       "      <td>https://www.fifa.com/worldcup/archive/uruguay1...</td>\n",
       "    </tr>\n",
       "  </tbody>\n",
       "</table>\n",
       "</div>"
      ],
      "text/plain": [
       "   Unnamed: 0  Year    Stage          Date   Time                 Stadium  \\\n",
       "0           0  1930  Group 1  13 July 1930  15:00         Estadio Pocitos   \n",
       "1           0  1930  Group 1  15 July 1930  16:00  Estadio Parque Central   \n",
       "2           0  1930  Group 1  16 July 1930  14:45  Estadio Parque Central   \n",
       "3           0  1930  Group 1  19 July 1930  12:50      Estadio Centenario   \n",
       "4           0  1930  Group 1  19 July 1930  15:00      Estadio Centenario   \n",
       "\n",
       "      Location  Home Team  HT Goals AT Goals Away Team Match Attendance  \\\n",
       "0   Montevideo     France         4        1    Mexico            4,444   \n",
       "1   Montevideo  Argentina         1        0    France           23,409   \n",
       "2   Montevideo      Chile         3        0    Mexico            9,249   \n",
       "3   Montevideo      Chile         1        0    France            2,000   \n",
       "4   Montevideo  Argentina         6        3    Mexico           42,100   \n",
       "\n",
       "   MatchID                                              Refer  \n",
       "0     1096  https://www.fifa.com/worldcup/archive/uruguay1...  \n",
       "1     1085  https://www.fifa.com/worldcup/archive/uruguay1...  \n",
       "2     1095  https://www.fifa.com/worldcup/archive/uruguay1...  \n",
       "3     1094  https://www.fifa.com/worldcup/archive/uruguay1...  \n",
       "4     1086  https://www.fifa.com/worldcup/archive/uruguay1...  "
      ]
     },
     "execution_count": 3,
     "metadata": {},
     "output_type": "execute_result"
    }
   ],
   "source": [
    "# view data\n",
    "ff_matches.head()"
   ]
  },
  {
   "cell_type": "code",
   "execution_count": 4,
   "metadata": {},
   "outputs": [
    {
     "name": "stdout",
     "output_type": "stream",
     "text": [
      "<class 'pandas.core.frame.DataFrame'>\n",
      "RangeIndex: 900 entries, 0 to 899\n",
      "Data columns (total 14 columns):\n",
      " #   Column            Non-Null Count  Dtype \n",
      "---  ------            --------------  ----- \n",
      " 0   Unnamed: 0        900 non-null    int64 \n",
      " 1   Year              900 non-null    int64 \n",
      " 2   Stage             900 non-null    object\n",
      " 3   Date              900 non-null    object\n",
      " 4   Time              900 non-null    object\n",
      " 5   Stadium           900 non-null    object\n",
      " 6   Location          900 non-null    object\n",
      " 7   Home Team         900 non-null    object\n",
      " 8   HT Goals          900 non-null    int64 \n",
      " 9   AT Goals          900 non-null    object\n",
      " 10  Away Team         900 non-null    object\n",
      " 11  Match Attendance  900 non-null    object\n",
      " 12  MatchID           900 non-null    int64 \n",
      " 13  Refer             899 non-null    object\n",
      "dtypes: int64(4), object(10)\n",
      "memory usage: 98.6+ KB\n"
     ]
    }
   ],
   "source": [
    "ff_matches.info()"
   ]
  },
  {
   "cell_type": "code",
   "execution_count": 5,
   "metadata": {},
   "outputs": [
    {
     "data": {
      "text/plain": [
       "Unnamed: 0          0\n",
       "Year                0\n",
       "Stage               0\n",
       "Date                0\n",
       "Time                0\n",
       "Stadium             0\n",
       "Location            0\n",
       "Home Team           0\n",
       "HT Goals            0\n",
       "AT Goals            0\n",
       "Away Team           0\n",
       "Match Attendance    0\n",
       "MatchID             0\n",
       "Refer               1\n",
       "dtype: int64"
      ]
     },
     "execution_count": 5,
     "metadata": {},
     "output_type": "execute_result"
    }
   ],
   "source": [
    "ff_matches.isnull().sum()"
   ]
  },
  {
   "cell_type": "code",
   "execution_count": 6,
   "metadata": {},
   "outputs": [
    {
     "data": {
      "text/html": [
       "<div>\n",
       "<style scoped>\n",
       "    .dataframe tbody tr th:only-of-type {\n",
       "        vertical-align: middle;\n",
       "    }\n",
       "\n",
       "    .dataframe tbody tr th {\n",
       "        vertical-align: top;\n",
       "    }\n",
       "\n",
       "    .dataframe thead th {\n",
       "        text-align: right;\n",
       "    }\n",
       "</style>\n",
       "<table border=\"1\" class=\"dataframe\">\n",
       "  <thead>\n",
       "    <tr style=\"text-align: right;\">\n",
       "      <th></th>\n",
       "      <th>Unnamed: 0</th>\n",
       "      <th>MatchID</th>\n",
       "      <th>Refer</th>\n",
       "      <th>HT Role</th>\n",
       "      <th>HT Captain</th>\n",
       "      <th>HT Shirt Number</th>\n",
       "      <th>HT Fullname</th>\n",
       "      <th>HT Discipline</th>\n",
       "      <th>HT In_Out</th>\n",
       "      <th>HT Goal</th>\n",
       "      <th>AT Goal</th>\n",
       "      <th>AT Role</th>\n",
       "      <th>AT Captain</th>\n",
       "      <th>AT Shirt Number</th>\n",
       "      <th>AT Fullname</th>\n",
       "      <th>AT Discipline</th>\n",
       "      <th>AT In_Out</th>\n",
       "      <th>Home Team</th>\n",
       "      <th>Away Team</th>\n",
       "    </tr>\n",
       "  </thead>\n",
       "  <tbody>\n",
       "    <tr>\n",
       "      <th>0</th>\n",
       "      <td>0.0</td>\n",
       "      <td>1096.0</td>\n",
       "      <td>https://www.fifa.com/worldcup/archive/uruguay1...</td>\n",
       "      <td>GK</td>\n",
       "      <td>NaN</td>\n",
       "      <td>None</td>\n",
       "      <td>Alex Thépot</td>\n",
       "      <td>None</td>\n",
       "      <td>None</td>\n",
       "      <td>NaN</td>\n",
       "      <td>NaN</td>\n",
       "      <td>GK</td>\n",
       "      <td>NaN</td>\n",
       "      <td>None</td>\n",
       "      <td>Oscar Bonfiglio</td>\n",
       "      <td>None</td>\n",
       "      <td>None</td>\n",
       "      <td>France</td>\n",
       "      <td>Mexico</td>\n",
       "    </tr>\n",
       "    <tr>\n",
       "      <th>1</th>\n",
       "      <td>1.0</td>\n",
       "      <td>1096.0</td>\n",
       "      <td>https://www.fifa.com/worldcup/archive/uruguay1...</td>\n",
       "      <td>FB</td>\n",
       "      <td>NaN</td>\n",
       "      <td>None</td>\n",
       "      <td>Étienne Mattler</td>\n",
       "      <td>None</td>\n",
       "      <td>None</td>\n",
       "      <td>NaN</td>\n",
       "      <td>NaN</td>\n",
       "      <td>FB</td>\n",
       "      <td>1.0</td>\n",
       "      <td>None</td>\n",
       "      <td>Rafael Garza Gutiérrez</td>\n",
       "      <td>None</td>\n",
       "      <td>None</td>\n",
       "      <td>France</td>\n",
       "      <td>Mexico</td>\n",
       "    </tr>\n",
       "    <tr>\n",
       "      <th>2</th>\n",
       "      <td>2.0</td>\n",
       "      <td>1096.0</td>\n",
       "      <td>https://www.fifa.com/worldcup/archive/uruguay1...</td>\n",
       "      <td>FB</td>\n",
       "      <td>NaN</td>\n",
       "      <td>None</td>\n",
       "      <td>Marcel Capelle</td>\n",
       "      <td>None</td>\n",
       "      <td>None</td>\n",
       "      <td>NaN</td>\n",
       "      <td>NaN</td>\n",
       "      <td>FB</td>\n",
       "      <td>NaN</td>\n",
       "      <td>None</td>\n",
       "      <td>Manuel Rosas</td>\n",
       "      <td>None</td>\n",
       "      <td>None</td>\n",
       "      <td>France</td>\n",
       "      <td>Mexico</td>\n",
       "    </tr>\n",
       "    <tr>\n",
       "      <th>3</th>\n",
       "      <td>3.0</td>\n",
       "      <td>1096.0</td>\n",
       "      <td>https://www.fifa.com/worldcup/archive/uruguay1...</td>\n",
       "      <td>HB</td>\n",
       "      <td>NaN</td>\n",
       "      <td>None</td>\n",
       "      <td>Augustin Chantrel</td>\n",
       "      <td>None</td>\n",
       "      <td>None</td>\n",
       "      <td>NaN</td>\n",
       "      <td>NaN</td>\n",
       "      <td>HB</td>\n",
       "      <td>NaN</td>\n",
       "      <td>None</td>\n",
       "      <td>None</td>\n",
       "      <td>None</td>\n",
       "      <td>None</td>\n",
       "      <td>France</td>\n",
       "      <td>Mexico</td>\n",
       "    </tr>\n",
       "    <tr>\n",
       "      <th>4</th>\n",
       "      <td>4.0</td>\n",
       "      <td>1096.0</td>\n",
       "      <td>https://www.fifa.com/worldcup/archive/uruguay1...</td>\n",
       "      <td>HB</td>\n",
       "      <td>1.0</td>\n",
       "      <td>None</td>\n",
       "      <td>Alexandre Villaplane</td>\n",
       "      <td>None</td>\n",
       "      <td>None</td>\n",
       "      <td>NaN</td>\n",
       "      <td>NaN</td>\n",
       "      <td>HB</td>\n",
       "      <td>NaN</td>\n",
       "      <td>None</td>\n",
       "      <td>Alfredo Sánchez</td>\n",
       "      <td>None</td>\n",
       "      <td>None</td>\n",
       "      <td>France</td>\n",
       "      <td>Mexico</td>\n",
       "    </tr>\n",
       "  </tbody>\n",
       "</table>\n",
       "</div>"
      ],
      "text/plain": [
       "   Unnamed: 0  MatchID                                              Refer  \\\n",
       "0         0.0   1096.0  https://www.fifa.com/worldcup/archive/uruguay1...   \n",
       "1         1.0   1096.0  https://www.fifa.com/worldcup/archive/uruguay1...   \n",
       "2         2.0   1096.0  https://www.fifa.com/worldcup/archive/uruguay1...   \n",
       "3         3.0   1096.0  https://www.fifa.com/worldcup/archive/uruguay1...   \n",
       "4         4.0   1096.0  https://www.fifa.com/worldcup/archive/uruguay1...   \n",
       "\n",
       "  HT Role  HT Captain HT Shirt Number           HT Fullname HT Discipline  \\\n",
       "0      GK         NaN            None           Alex Thépot          None   \n",
       "1      FB         NaN            None       Étienne Mattler          None   \n",
       "2      FB         NaN            None        Marcel Capelle          None   \n",
       "3      HB         NaN            None     Augustin Chantrel          None   \n",
       "4      HB         1.0            None  Alexandre Villaplane          None   \n",
       "\n",
       "  HT In_Out HT Goal AT Goal AT Role  AT Captain AT Shirt Number  \\\n",
       "0      None     NaN     NaN      GK         NaN            None   \n",
       "1      None     NaN     NaN      FB         1.0            None   \n",
       "2      None     NaN     NaN      FB         NaN            None   \n",
       "3      None     NaN     NaN      HB         NaN            None   \n",
       "4      None     NaN     NaN      HB         NaN            None   \n",
       "\n",
       "              AT Fullname AT Discipline AT In_Out Home Team Away Team  \n",
       "0         Oscar Bonfiglio          None      None    France    Mexico  \n",
       "1  Rafael Garza Gutiérrez          None      None    France    Mexico  \n",
       "2            Manuel Rosas          None      None    France    Mexico  \n",
       "3                    None          None      None    France    Mexico  \n",
       "4         Alfredo Sánchez          None      None    France    Mexico  "
      ]
     },
     "execution_count": 6,
     "metadata": {},
     "output_type": "execute_result"
    }
   ],
   "source": [
    "ff_details.head()"
   ]
  },
  {
   "cell_type": "code",
   "execution_count": 7,
   "metadata": {},
   "outputs": [
    {
     "name": "stdout",
     "output_type": "stream",
     "text": [
      "<class 'pandas.core.frame.DataFrame'>\n",
      "RangeIndex: 13130 entries, 0 to 13129\n",
      "Data columns (total 19 columns):\n",
      " #   Column           Non-Null Count  Dtype  \n",
      "---  ------           --------------  -----  \n",
      " 0   Unnamed: 0       13024 non-null  float64\n",
      " 1   MatchID          13024 non-null  float64\n",
      " 2   Refer            12997 non-null  object \n",
      " 3   HT Role          12877 non-null  object \n",
      " 4   HT Captain       796 non-null    float64\n",
      " 5   HT Shirt Number  12877 non-null  object \n",
      " 6   HT Fullname      12883 non-null  object \n",
      " 7   HT Discipline    12877 non-null  object \n",
      " 8   HT In_Out        12877 non-null  object \n",
      " 9   HT Goal          1019 non-null   object \n",
      " 10  AT Goal          777 non-null    object \n",
      " 11  AT Role          12785 non-null  object \n",
      " 12  AT Captain       797 non-null    float64\n",
      " 13  AT Shirt Number  12785 non-null  object \n",
      " 14  AT Fullname      12796 non-null  object \n",
      " 15  AT Discipline    12785 non-null  object \n",
      " 16  AT In_Out        12785 non-null  object \n",
      " 17  Home Team        13027 non-null  object \n",
      " 18  Away Team        13027 non-null  object \n",
      "dtypes: float64(4), object(15)\n",
      "memory usage: 1.9+ MB\n"
     ]
    }
   ],
   "source": [
    "ff_details.info()"
   ]
  },
  {
   "cell_type": "code",
   "execution_count": 8,
   "metadata": {},
   "outputs": [
    {
     "data": {
      "text/plain": [
       "Unnamed: 0           106\n",
       "MatchID              106\n",
       "Refer                133\n",
       "HT Role              253\n",
       "HT Captain         12334\n",
       "HT Shirt Number      253\n",
       "HT Fullname          247\n",
       "HT Discipline        253\n",
       "HT In_Out            253\n",
       "HT Goal            12111\n",
       "AT Goal            12353\n",
       "AT Role              345\n",
       "AT Captain         12333\n",
       "AT Shirt Number      345\n",
       "AT Fullname          334\n",
       "AT Discipline        345\n",
       "AT In_Out            345\n",
       "Home Team            103\n",
       "Away Team            103\n",
       "dtype: int64"
      ]
     },
     "execution_count": 8,
     "metadata": {},
     "output_type": "execute_result"
    }
   ],
   "source": [
    "ff_details.isnull().sum()"
   ]
  },
  {
   "cell_type": "code",
   "execution_count": 9,
   "metadata": {},
   "outputs": [
    {
     "data": {
      "text/html": [
       "<div>\n",
       "<style scoped>\n",
       "    .dataframe tbody tr th:only-of-type {\n",
       "        vertical-align: middle;\n",
       "    }\n",
       "\n",
       "    .dataframe tbody tr th {\n",
       "        vertical-align: top;\n",
       "    }\n",
       "\n",
       "    .dataframe thead th {\n",
       "        text-align: right;\n",
       "    }\n",
       "</style>\n",
       "<table border=\"1\" class=\"dataframe\">\n",
       "  <thead>\n",
       "    <tr style=\"text-align: right;\">\n",
       "      <th></th>\n",
       "      <th>Region</th>\n",
       "      <th>Country</th>\n",
       "    </tr>\n",
       "  </thead>\n",
       "  <tbody>\n",
       "    <tr>\n",
       "      <th>0</th>\n",
       "      <td>Europe</td>\n",
       "      <td>Czechoslovakia</td>\n",
       "    </tr>\n",
       "    <tr>\n",
       "      <th>1</th>\n",
       "      <td>Africa</td>\n",
       "      <td>Algeria</td>\n",
       "    </tr>\n",
       "    <tr>\n",
       "      <th>2</th>\n",
       "      <td>Europe</td>\n",
       "      <td>Yugoslavia</td>\n",
       "    </tr>\n",
       "    <tr>\n",
       "      <th>3</th>\n",
       "      <td>Europe</td>\n",
       "      <td>Germany</td>\n",
       "    </tr>\n",
       "    <tr>\n",
       "      <th>4</th>\n",
       "      <td>Asia &amp; Pacific</td>\n",
       "      <td>United Arab Emirates</td>\n",
       "    </tr>\n",
       "  </tbody>\n",
       "</table>\n",
       "</div>"
      ],
      "text/plain": [
       "           Region               Country\n",
       "0          Europe        Czechoslovakia\n",
       "1          Africa               Algeria\n",
       "2          Europe            Yugoslavia\n",
       "3          Europe               Germany\n",
       "4  Asia & Pacific  United Arab Emirates"
      ]
     },
     "execution_count": 9,
     "metadata": {},
     "output_type": "execute_result"
    }
   ],
   "source": [
    "regions_list.head()"
   ]
  },
  {
   "cell_type": "code",
   "execution_count": 10,
   "metadata": {},
   "outputs": [
    {
     "name": "stdout",
     "output_type": "stream",
     "text": [
      "<class 'pandas.core.frame.DataFrame'>\n",
      "RangeIndex: 86 entries, 0 to 85\n",
      "Data columns (total 2 columns):\n",
      " #   Column   Non-Null Count  Dtype \n",
      "---  ------   --------------  ----- \n",
      " 0   Region   86 non-null     object\n",
      " 1   Country  86 non-null     object\n",
      "dtypes: object(2)\n",
      "memory usage: 1.5+ KB\n"
     ]
    }
   ],
   "source": [
    "regions_list.info()"
   ]
  },
  {
   "cell_type": "markdown",
   "metadata": {},
   "source": [
    "### Fifa world cup Dataset have 2 sheets: All Matches and Match Details\n",
    "#### The All Matches worksheet \n",
    "has 899 rows and 14 columns with 1 null in Refer columns. The worksheet displays 899 matches of 21 Fifa World Cups refer to columns Year. Each row of this worksheet contains information for a match such as Year, Stage, Date, Time, Stadium, Location, Home Team, HT Goals, AT Goals, Away Team, Match Attendance, MatchID, Refer. The columns 'Unnamed: 0' displays the same with index\n",
    "   \n",
    "#### The Match Details worksheet\n",
    "has 13130 rows and 19 columns with 52655 null values in 19 columns. The worksheet displays the details of each match refer to matchID such as Refer, HT Role, HT Captain, HT Shirt Number, HT Fullname, HT Discipline, HT In_out, HT Goal, AT Goal, AT Role, AT Captain, AT Shirt Number, AT Fullname, AT Discipline, AT In_out, Home Team, Away Team. The columns 'Unnamed: 0' displays the same with index\n",
    "\n",
    "### Regions Dataset has 1 sheets: region list\n",
    "has 86 rows and 2 columns without null value. The worksheet displays the country and its region."
   ]
  },
  {
   "cell_type": "markdown",
   "metadata": {},
   "source": [
    "### Clean up, change data type and create some needed columns\n",
    "There are so many 'None', 'NaN', 'missing' and appended '[1]' values in the columns, we will replace them with '' and correct datatype for some columns after cleanned up"
   ]
  },
  {
   "cell_type": "code",
   "execution_count": 11,
   "metadata": {},
   "outputs": [],
   "source": [
    "# clean up leading and ending spaces\n",
    "ff_matches = ff_matches.replace(to_replace='^\\\\s+', value='', regex=True)\n",
    "ff_matches = ff_matches.replace(to_replace='\\\\s+$', value='', regex=True)\n",
    "ff_details = ff_details.replace(to_replace='^\\\\s+', value='', regex=True)\n",
    "ff_details = ff_details.replace(to_replace='\\\\s+$', value='', regex=True)\n",
    "ff_details['HT Discipline'] = ff_details['HT Discipline'].replace('None', '0')\n",
    "ff_details['HT Discipline'] = ff_details['HT Discipline'].replace('missing', '0')\n",
    "ff_details['HT Discipline'] = ff_details['HT Discipline'].fillna('0')\n",
    "ff_details['HT Discipline'] = ff_details['HT Discipline'].replace(r'\\[.\\]', '', regex=True)\n",
    "ff_details['AT Discipline'] = ff_details['AT Discipline'].replace('None', '0')\n",
    "ff_details['AT Discipline'] = ff_details['AT Discipline'].replace('missing', '0')\n",
    "ff_details['AT Discipline'] = ff_details['HT Discipline'].replace(r'\\[.\\]', '0')\n",
    "ff_details['AT Discipline'] = ff_details['AT Discipline'].fillna('0')\n",
    "\n",
    "\n",
    "# create column Winstats, New HT Goals, New AT Goals\n",
    "ff_matches['Winstats'] = 0\n",
    "ff_matches['New HT Goals'] = ff_matches['HT Goals'].copy()\n",
    "ff_matches['New AT Goals'] = ff_matches['AT Goals'].copy()\n",
    "\n",
    "# clear non-numeric chatacters from New HT Goals, New AT Goals\n",
    "ff_matches[['New AT Goals','New HT Goals']] = ff_matches[['New AT Goals','New HT Goals']].replace(to_replace='\\D+', value='', regex=True)\n",
    "\n",
    "# change dtype of the 2 columns to 'int64'\n",
    "ff_matches[['New HT Goals', 'New AT Goals']] = ff_matches[['New HT Goals', 'New AT Goals']].astype('int64')\n",
    "\n",
    "# convert Date to datetime type\n",
    "ff_matches['Date'] = pd.to_datetime(ff_matches['Date'])\n",
    "\n",
    "# set Winstats = 1 if values in New HT Goals larger than New AT Goals\n",
    "mask_1 = ff_matches['New HT Goals']-ff_matches['New AT Goals']> 0\n",
    "ff_matches.loc[mask_1, 'Winstats'] = 1\n",
    "\n",
    "# set Winstats = -1 if values in New HT Goals smaller than New AT Goals\n",
    "mask_neg1 = ff_matches['New HT Goals']-ff_matches['New AT Goals']< 0\n",
    "ff_matches.loc[mask_neg1, 'Winstats'] = -1"
   ]
  },
  {
   "cell_type": "markdown",
   "metadata": {},
   "source": [
    "### We will find out how many a team win, draw and lose\n",
    "We retrieve a countries_list from reading Home Team and Away Team, using that list to count how many a team win, draw and lose\n",
    "With above data, we calculate the rating of each element (win, draw, lose, avg goals)"
   ]
  },
  {
   "cell_type": "code",
   "execution_count": 12,
   "metadata": {},
   "outputs": [],
   "source": [
    "# retrieve set of country name\n",
    "countries_list = list(set(pd.concat([ff_matches['Home Team'], ff_matches['Away Team']], axis=0)))\n",
    "\n",
    "# Generate team_info_dict from countries_list and ff_matches\n",
    "team_info_dict = {}\n",
    "for country in countries_list:    \n",
    "    for i, name in enumerate(ff_matches['Home Team']):\n",
    "        if country == name:\n",
    "            if country not in team_info_dict:\n",
    "                team_info_dict[country] = {'win':0, 'draw': 0, 'lose': 0, 'goals': 0, 'matches': 0}\n",
    "            if ff_matches.loc[i, 'Winstats'] == 1:\n",
    "                team_info_dict[country]['win'] += 1\n",
    "            elif ff_matches.loc[i, 'Winstats'] == -1:\n",
    "                team_info_dict[country]['lose'] += 1\n",
    "            elif ff_matches.loc[i, 'Winstats'] == 0:\n",
    "                team_info_dict[country]['draw'] += 1\n",
    "            team_info_dict[country]['goals'] += ff_matches.loc[i, 'New HT Goals']\n",
    "            team_info_dict[country]['matches'] += 1\n",
    "                \n",
    "    for i, name in enumerate(ff_matches['Away Team']):\n",
    "        if country == name:\n",
    "            if country not in team_info_dict:\n",
    "                team_info_dict[country] = {'win':0, 'draw': 0, 'lose': 0, 'goals': 0, 'matches': 0}\n",
    "            if ff_matches.loc[i, 'Winstats'] == -1:\n",
    "                team_info_dict[country]['win'] += 1\n",
    "            elif ff_matches.loc[i, 'Winstats'] == 1:\n",
    "                team_info_dict[country]['lose'] += 1\n",
    "            elif ff_matches.loc[i, 'Winstats'] == 0:\n",
    "                team_info_dict[country]['draw'] += 1\n",
    "            team_info_dict[country]['goals'] += ff_matches.loc[i, 'New AT Goals']\n",
    "            team_info_dict[country]['matches'] += 1\n",
    "         \n",
    "# create df_team_info\n",
    "df_team_info = pd.DataFrame(team_info_dict).T\n",
    "\n",
    "# create df_winrate\n",
    "def percent(element):\n",
    "    return round(element/df_team_info['matches'],3)\n",
    "\n",
    "df_winrate = df_team_info.copy()\n",
    "df_winrate[['win','draw','lose']] = df_winrate[['win','draw','lose']].apply(percent)\n",
    "df_winrate[['goals']] = df_winrate[['goals']].apply(percent)"
   ]
  },
  {
   "cell_type": "code",
   "execution_count": 13,
   "metadata": {},
   "outputs": [
    {
     "name": "stdout",
     "output_type": "stream",
     "text": [
      "                         win   draw   lose  goals  matches\n",
      "Croatia                0.478  0.174  0.348  1.522       23\n",
      "Costa Rica             0.278  0.278  0.444  1.056       18\n",
      "Uruguay                0.429  0.214  0.357  1.554       56\n",
      "Senegal                0.375  0.375  0.250  1.375        8\n",
      "China                  0.000  0.000  1.000  0.000        3\n",
      "...                      ...    ...    ...    ...      ...\n",
      "France                 0.515  0.197  0.288  1.818       66\n",
      "Turkey                 0.500  0.100  0.400  2.000       10\n",
      "Serbia and Montenegro  0.000  0.000  1.000  0.667        3\n",
      "Cuba                   0.333  0.333  0.333  1.667        3\n",
      "Brazil                 0.670  0.165  0.165  2.101      109\n",
      "\n",
      "[85 rows x 5 columns]\n"
     ]
    }
   ],
   "source": [
    "print(df_winrate)"
   ]
  },
  {
   "cell_type": "markdown",
   "metadata": {},
   "source": [
    "### Top 10 Country of Winning rate"
   ]
  },
  {
   "cell_type": "code",
   "execution_count": 14,
   "metadata": {},
   "outputs": [
    {
     "data": {
      "image/png": "[encoded data removed]",
      "text/plain": [
       "<Figure size 432x288 with 1 Axes>"
      ]
     },
     "metadata": {},
     "output_type": "display_data"
    }
   ],
   "source": [
    "# create top 10 countries by winrate\n",
    "top_10_winrate_country = df_winrate[['win','draw','lose']].sort_values(by='win', ascending=False).head(10)\n",
    "\n",
    "# create 100% stacked bar for top 10 winrate of country\n",
    "# prepair data in percentage\n",
    "df=top_10_winrate_country.sort_values(by='win', ascending=True).copy()\n",
    "r = range(len(df))\n",
    "winBars = list(df['win']*100)\n",
    "drawBars = list(df['draw']*100)\n",
    "loseBars = list(df['lose']*100)\n",
    "\n",
    "# plot info\n",
    "barHeight = 0.85\n",
    "names = tuple(df.index)\n",
    "fig, ax = plt.subplots()\n",
    "# create win Bars\n",
    "ax.barh(r, winBars, color='#af0b1e', edgecolor='white', height=barHeight, label=\"win\")\n",
    "# create draw Bars\n",
    "ax.barh(r, drawBars, left=winBars, color='grey', edgecolor='white', height=barHeight, label=\"draw\")\n",
    "# create lose Bars\n",
    "ax.barh(r, loseBars, left=[i+j for i,j in zip(winBars, drawBars)], color='#18384e', edgecolor='white', height=barHeight, label=\"lose\")\n",
    " \n",
    "# custom x axis\n",
    "plt.yticks(r, names) # set the name of each Bar\n",
    "ax.set_xticks([0,25,50,75,100]) # overwrite the xticks at the bottom\n",
    "plt.tick_params(bottom=0, left=0) # disable the tick from bottom and left side\n",
    "\n",
    "for pos in ['top', 'left', 'right', 'bottom']:\n",
    "    ax.spines[pos].set_visible(0)\n",
    " \n",
    "# add a legend\n",
    "ax.legend(loc='upper left', bbox_to_anchor=(1,1), ncol=1)\n",
    " \n",
    "# add a line\n",
    "ax.axvline(x=50, ls=':', color = 'white', ymin=0.05, ymax=0.95)\n",
    "ax.set_title(label='Top 10 Country of Winning rate')\n",
    "\n",
    "# show graph\n",
    "plt.show()"
   ]
  },
  {
   "cell_type": "markdown",
   "metadata": {},
   "source": [
    "### The Winning Rate by Region"
   ]
  },
  {
   "cell_type": "code",
   "execution_count": 15,
   "metadata": {},
   "outputs": [
    {
     "data": {
      "image/png": "[encoded data removed]",
      "text/plain": [
       "<Figure size 432x288 with 1 Axes>"
      ]
     },
     "metadata": {},
     "output_type": "display_data"
    }
   ],
   "source": [
    "# apply map_region to Region column in df_winrate\n",
    "def map_region(name):\n",
    "    for i, country in enumerate(regions_list['Country']):\n",
    "        if name == country:\n",
    "            return regions_list.loc[i, 'Region']\n",
    "        else:\n",
    "            pass\n",
    "    return 'not listed'\n",
    "df_winrate = df_winrate.reset_index()\n",
    "df_winrate = df_winrate.rename(columns={'index':'Country'})\n",
    "df_winrate['Region'] = df_winrate['Country'].apply(map_region)\n",
    "df_winrate_of_region = pd.pivot_table(data=df_winrate,index='Region', aggfunc='mean').sort_values(by='win', ascending=0)[['win','draw','lose']]\n",
    "\n",
    "# create 100% stacked bar for winrate of region\n",
    "# prepair data in percentage\n",
    "df = df_winrate_of_region.sort_values(by='win', ascending=True).copy()\n",
    "r = range(len(df))\n",
    "winBars = list(df['win']*100)\n",
    "drawBars = list(df['draw']*100)\n",
    "loseBars = list(df['lose']*100)\n",
    "\n",
    "# plot info\n",
    "barHeight = 0.85\n",
    "names = tuple(df.index)\n",
    "fig, ax = plt.subplots()\n",
    "# create win Bars\n",
    "ax.barh(r, winBars, color='#af0b1e', edgecolor='white', height=barHeight, label=\"win\")\n",
    "# create draw Bars\n",
    "ax.barh(r, drawBars, left=winBars, color='grey', edgecolor='white', height=barHeight, label=\"draw\")\n",
    "# create lose Bars\n",
    "ax.barh(r, loseBars, left=[i+j for i,j in zip(winBars, drawBars)], color='#18384e', edgecolor='white', height=barHeight, label=\"lose\")\n",
    " \n",
    "# custom x axis\n",
    "plt.yticks(r, names) # set the name of each Bar\n",
    "ax.set_xticks([0,25,50,75,100]) # overwrite the xticks at the bottom\n",
    "plt.tick_params(bottom=0, left=0) # disable the tick from bottom and left side\n",
    "\n",
    "for pos in ['top', 'left', 'right', 'bottom']:\n",
    "    ax.spines[pos].set_visible(0)\n",
    "\n",
    "# add legend\n",
    "ax.legend(loc='upper left', bbox_to_anchor=(1,1), ncol=1)\n",
    " \n",
    "# add a line\n",
    "ax.axvline(x=50, ls=':', color = 'white', ymin=0.05, ymax=0.95)\n",
    "ax.set_title(label='The Winning Rate by Region')\n",
    "\n",
    "# show graph\n",
    "plt.show()"
   ]
  },
  {
   "cell_type": "markdown",
   "metadata": {},
   "source": [
    "### We will find out the name of participants of semi-finals and finals\n",
    "By getting the 2 last matches of each final stage, we will found out the 4 teams that participates to semi-finals and finals"
   ]
  },
  {
   "cell_type": "code",
   "execution_count": 16,
   "metadata": {},
   "outputs": [],
   "source": [
    "year_list = list(set(ff_matches['Year']))\n",
    "df_final_stage = pd.DataFrame(None)\n",
    "for year in year_list:\n",
    "    df_final = ff_matches[((ff_matches['Stage'] == 'final round')| (ff_matches['Stage'] == 'final tournament')|(ff_matches['Stage'] == 'knockout stage')) & (ff_matches['Year'] == year)].iloc[[-2, -1], :]\n",
    "    df_final_stage = pd.concat([df_final_stage, df_final],axis=0)\n",
    "\n",
    "attend_final_country = list(set(pd.concat([df_final_stage['Home Team'], df_final_stage['Away Team']], axis=0)))\n",
    "\n",
    "attend_counter = {}\n",
    "for country in attend_final_country:    \n",
    "    for name in df_final_stage['Home Team']:\n",
    "        if country == name:\n",
    "            try: \n",
    "                if attend_counter[country] > 0:\n",
    "                    attend_counter[country] += 1\n",
    "            except KeyError:\n",
    "                attend_counter[country] = 1\n",
    "            \n",
    "    for name in df_final_stage['Away Team']:\n",
    "        if country == name:\n",
    "            try: \n",
    "                if attend_counter[country] > 0:\n",
    "                    attend_counter[country] += 1\n",
    "            except KeyError:\n",
    "                attend_counter[country] = 1                \n",
    "\n",
    "df_final_stage_count = pd.DataFrame(data=attend_counter, index=['Attend']).T\n",
    "df_final_stage_count = df_final_stage_count.reset_index()\n",
    "\n",
    "def mapping_(element):\n",
    "    for i, item in enumerate(df_winrate['Country']):\n",
    "        if element == item:\n",
    "            return df_winrate.loc[i, 'win']\n",
    "        else:\n",
    "            pass\n",
    "    return 'not found'\n",
    "\n",
    "df_final_stage_count['win'] = df_final_stage_count['index'].apply(mapping_)\n",
    "df_final_stage_count = df_final_stage_count.sort_values(by='win', ascending=0)"
   ]
  },
  {
   "cell_type": "markdown",
   "metadata": {},
   "source": [
    "### Participants of Semi-finals and Finals"
   ]
  },
  {
   "cell_type": "code",
   "execution_count": 17,
   "metadata": {},
   "outputs": [
    {
     "data": {
      "image/png": "[encoded data removed]",
      "text/plain": [
       "<Figure size 576x432 with 1 Axes>"
      ]
     },
     "metadata": {},
     "output_type": "display_data"
    }
   ],
   "source": [
    "# Create BarH chart of Participants of Semi-finals and Finals\n",
    "df = df_final_stage_count.sort_values(by='Attend', ascending=True).copy()\n",
    "fig, ax = plt.subplots(figsize=(8,6))\n",
    "r = range(len(df))\n",
    "barHeight = 0.8\n",
    "names = df['index']\n",
    "ax.barh(r, df['Attend'], color='#af0b1e', edgecolor='white', height=barHeight, label='attend')\n",
    "plt.yticks(r, names)\n",
    "plt.tick_params(bottom=0, left=0)\n",
    "\n",
    "for pos in ['top', 'left', 'right', 'bottom']:\n",
    "    ax.spines[pos].set_visible(0)\n",
    "\n",
    "# set xticks \n",
    "ax.xaxis.tick_top()\n",
    "ax.xaxis.set_label_position('top')\n",
    "ax.set_xticks([0,2,4,6,8,10,12])\n",
    "ax.set_xlabel('Amount')\n",
    "\n",
    "ax.set_title(label='Participants of Semi-finals and Finals', y = -0.03)\n",
    "plt.show()"
   ]
  },
  {
   "cell_type": "markdown",
   "metadata": {},
   "source": [
    "### Top 10 Countries by average goal"
   ]
  },
  {
   "cell_type": "code",
   "execution_count": 18,
   "metadata": {},
   "outputs": [
    {
     "data": {
      "image/png": "[encoded data removed]",
      "text/plain": [
       "<Figure size 576x432 with 1 Axes>"
      ]
     },
     "metadata": {},
     "output_type": "display_data"
    }
   ],
   "source": [
    "# create df_avg_goal and top 10 avg goal\n",
    "df_avg_goal = df_winrate[['Country', 'win', 'goals']].copy().sort_values(by='goals', ascending=0)\n",
    "top_10_country_by_avg_goal = df_avg_goal.head(10)\n",
    "\n",
    "# Create BarH chart of Top 10 Countries of Average Goal\n",
    "df = top_10_country_by_avg_goal.sort_values(by='goals', ascending=True).copy()\n",
    "fig, ax = plt.subplots(figsize=(8,6))\n",
    "r = range(len(df))\n",
    "barHeight = 0.8\n",
    "names = df['Country']\n",
    "ax.barh(r, df['goals'], color='#af0b1e', edgecolor='white', height=barHeight, label='attend')\n",
    "plt.yticks(r, names)\n",
    "plt.tick_params(bottom=0, left=0)\n",
    "\n",
    "for pos in ['top', 'left', 'right', 'bottom']:\n",
    "    ax.spines[pos].set_visible(0)\n",
    "\n",
    "# set xticks \n",
    "ax.xaxis.tick_top()\n",
    "ax.xaxis.set_label_position('top')\n",
    "ax.set_xlim(0,3)\n",
    "ax.set_xlabel('Goals per match')\n",
    "\n",
    "ax.axvline(x=1.5, ls=':', color = 'white', ymin=0.05, ymax=0.95)\n",
    "ax.set_title(label='Top 10 Countries of Average Goal', y = -0.03)\n",
    "plt.show()"
   ]
  },
  {
   "cell_type": "markdown",
   "metadata": {},
   "source": [
    "### We will collect Discipline cards for each Team\n",
    "By counting the ' from each cell, we will retrieve the number of cards that Home Team or Away Team made from a match. After that, we merge them up and sum for the cards of each Team."
   ]
  },
  {
   "cell_type": "code",
   "execution_count": 19,
   "metadata": {},
   "outputs": [],
   "source": [
    "ff_details.loc[ff_details['HT Discipline'].str.count(r\"'\") == 3.0, 'HT Discipline'] = '3'\n",
    "ff_details.loc[ff_details['HT Discipline'].str.count(r\"'\") == 2.0, 'HT Discipline'] = '2'\n",
    "ff_details.loc[ff_details['HT Discipline'].str.count(r\"'\") == 1.0, 'HT Discipline'] = '1'\n",
    "ff_details.loc[ff_details['AT Discipline'].str.count(r\"'\") == 3.0, 'AT Discipline'] = '3'\n",
    "ff_details.loc[ff_details['AT Discipline'].str.count(r\"'\") == 2.0, 'AT Discipline'] = '2'\n",
    "ff_details.loc[ff_details['AT Discipline'].str.count(r\"'\") == 1.0, 'AT Discipline'] = '1'\n",
    "ff_details[['AT Discipline', 'HT Discipline']] = ff_details[['AT Discipline', 'HT Discipline']].astype('int64')"
   ]
  },
  {
   "cell_type": "code",
   "execution_count": 20,
   "metadata": {},
   "outputs": [],
   "source": [
    "df_HT_cards = ff_details.pivot_table(index='Home Team', aggfunc='sum')[['HT Discipline']]\n",
    "df_AT_cards = ff_details.pivot_table(index='Away Team', aggfunc='sum')[['AT Discipline']]\n",
    "df_cards = pd.merge(left = df_HT_cards, right= df_AT_cards, left_index=True, right_index=True, how='left').fillna(0)\n",
    "df_cards = df_cards.sum(axis=1).rename('Cards')\n",
    "df_team_info = pd.merge(left=df_team_info, right=df_cards, left_index=True, right_on='Home Team', how='left').fillna(0).rename(columns={'Home Team': 'Country'})\n",
    "df_team_info = df_team_info.reset_index().drop(columns='index')\n",
    "top_10_country_by_cards = df_team_info.sort_values(by='Cards', ascending=0)[['Country', 'Cards']].head(10)"
   ]
  },
  {
   "cell_type": "markdown",
   "metadata": {},
   "source": [
    "### Top 10 Countries with Discipline cards"
   ]
  },
  {
   "cell_type": "code",
   "execution_count": 21,
   "metadata": {},
   "outputs": [
    {
     "data": {
      "image/png": "[encoded data removed]",
      "text/plain": [
       "<Figure size 576x432 with 1 Axes>"
      ]
     },
     "metadata": {},
     "output_type": "display_data"
    }
   ],
   "source": [
    "# create BarH for top 10 countries by cards\n",
    "df = top_10_country_by_cards.sort_values(by='Cards', ascending=True).copy()\n",
    "fig, ax = plt.subplots(figsize=(8,6))\n",
    "r = range(len(df))\n",
    "barHeight = 0.8\n",
    "names = df['Country']\n",
    "ax.barh(r, df['Cards'], color='#af0b1e', edgecolor='white', height=barHeight, label='Cards')\n",
    "plt.yticks(r, names)\n",
    "plt.tick_params(bottom=0, left=0)\n",
    "\n",
    "for pos in ['top', 'left', 'right', 'bottom']:\n",
    "    ax.spines[pos].set_visible(0)\n",
    "\n",
    "# set xticks \n",
    "ax.xaxis.tick_top()\n",
    "ax.xaxis.set_label_position('top')\n",
    "ax.set_xticks([0,30,60,90,120,150])\n",
    "ax.set_xlabel('Cards')\n",
    "\n",
    "ax.set_title(label='Top 10 Countries with Discipline cards', y = -0.03)\n",
    "plt.show()"
   ]
  },
  {
   "cell_type": "markdown",
   "metadata": {},
   "source": [
    "## Now we collect all the above data into a DataFrame team info"
   ]
  },
  {
   "cell_type": "code",
   "execution_count": 22,
   "metadata": {},
   "outputs": [],
   "source": [
    "df_team_info_percent = df_team_info.copy()\n",
    "df_team_info_percent[['win', 'draw', 'lose', 'goals', 'Cards']] = df_team_info[['win', 'draw', 'lose', 'goals', 'Cards']].apply(percent)"
   ]
  },
  {
   "cell_type": "code",
   "execution_count": 23,
   "metadata": {},
   "outputs": [],
   "source": [
    "df_team_info_percent_corr = df_team_info_percent.corr()"
   ]
  },
  {
   "cell_type": "markdown",
   "metadata": {},
   "source": [
    "## FACTORS AFFECTING THE WINNING ABILITY OF TEAMS PARTICIPATING IN THE WORLD CUP"
   ]
  },
  {
   "cell_type": "code",
   "execution_count": 24,
   "metadata": {},
   "outputs": [
    {
     "data": {
      "image/png": "[encoded data removed]",
      "text/plain": [
       "<Figure size 576x432 with 2 Axes>"
      ]
     },
     "metadata": {},
     "output_type": "display_data"
    },
    {
     "name": "stdout",
     "output_type": "stream",
     "text": [
      "              win      draw      lose     goals   matches     Cards\n",
      "win      1.000000 -0.050588 -0.766240  0.883472  0.675552 -0.050354\n",
      "draw    -0.050588  1.000000 -0.602966  0.014840  0.032632 -0.109901\n",
      "lose    -0.766240 -0.602966  1.000000 -0.715087 -0.560516  0.110756\n",
      "goals    0.883472  0.014840 -0.715087  1.000000  0.631838 -0.148467\n",
      "matches  0.675552  0.032632 -0.560516  0.631838  1.000000 -0.209285\n",
      "Cards   -0.050354 -0.109901  0.110756 -0.148467 -0.209285  1.000000\n"
     ]
    }
   ],
   "source": [
    "fig = plt.figure(figsize=(8,6))\n",
    "sns.heatmap(df_team_info_percent_corr)\n",
    "plt.title('Correlation of Win ability and others', fontsize = 22)\n",
    "plt.show()\n",
    "print(df_team_info_percent_corr)"
   ]
  },
  {
   "cell_type": "markdown",
   "metadata": {},
   "source": [
    "### Conclusion:\n",
    "#### FACTORS AFFECTING THE WINNING ABILITY:\n",
    " - draw: weak or no correlation\n",
    " - lose: negative correlation\n",
    " - goals: strong positive correlation\n",
    " - matches: positive correlation\n",
    " - cards: weak or no correlation"
   ]
  }
 ],
 "metadata": {
  "kernelspec": {
   "display_name": "Python 3.9.12 ('base')",
   "language": "python",
   "name": "python3"
  },
  "language_info": {
   "codemirror_mode": {
    "name": "ipython",
    "version": 3
   },
   "file_extension": ".py",
   "mimetype": "text/x-python",
   "name": "python",
   "nbconvert_exporter": "python",
   "pygments_lexer": "ipython3",
   "version": "3.9.12"
  },
  "vscode": {
   "interpreter": {
    "hash": "88279d2366fe020547cde40dd65aa0e3aa662a6ec1f3ca12d88834876c85e1a6"
   }
  }
 },
 "nbformat": 4,
 "nbformat_minor": 2
}
